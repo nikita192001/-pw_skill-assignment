{
  "metadata": {
    "language_info": {
      "codemirror_mode": {
        "name": "python",
        "version": 3
      },
      "file_extension": ".py",
      "mimetype": "text/x-python",
      "name": "python",
      "nbconvert_exporter": "python",
      "pygments_lexer": "ipython3",
      "version": "3.8"
    },
    "kernelspec": {
      "name": "python",
      "display_name": "Python (Pyodide)",
      "language": "python"
    }
  },
  "nbformat_minor": 4,
  "nbformat": 4,
  "cells": [
    {
      "cell_type": "markdown",
      "source": "##### Q1 What is multithreading in python? Why is it used? Name the module used to handle threads in python",
      "metadata": {}
    },
    {
      "cell_type": "markdown",
      "source": "Multithreading is a stringing procedure in Python programming to run various strings simultaneously by quickly exchanging between strings with a central processor help (called setting exchanging). \n\nUse Multithreading in Python\nIt is an exceptionally valuable strategy for efficient and working on the presentation of an application. Programmers can run multiple subtasks of an application at the same time by using multithreading. It lets threads talk to the same processor and share resources like files, data, and memory. In addition, it makes it easier for the user to continue running a program even when a portion of it is blocked or too long.\n\nTo use multithreading, we need to import the threading module in Python Program.",
      "metadata": {}
    },
    {
      "cell_type": "code",
      "source": "",
      "metadata": {},
      "execution_count": null,
      "outputs": []
    },
    {
      "cell_type": "markdown",
      "source": "#### Q2 Why threading module used? Write the use of the following functions( activeCount currentThread enumerate)",
      "metadata": {}
    },
    {
      "cell_type": "markdown",
      "source": "The threading module exposes all the methods of the thread module and provides some additional methods −\n\nthreading.activeCount() − Returns the number of thread objects that are active.\nthreading.currentThread() − Returns the number of thread objects in the caller's thread control.\nthreading.enumerate() − Returns a list of all thread objects that are currently active.",
      "metadata": {}
    },
    {
      "cell_type": "code",
      "source": "",
      "metadata": {},
      "execution_count": null,
      "outputs": []
    },
    {
      "cell_type": "markdown",
      "source": "#### 3. Explain the following functions\n run()\n start()\n join()\n isAlive()",
      "metadata": {}
    },
    {
      "cell_type": "markdown",
      "source": "run()  − The run() method is the entry point for a thread.\nstart()  − The start() method starts a thread by calling the run method.\njoin()  − The join() waits for threads to terminate.\nisAlive()  − The isAlive() method checks whether a thread is still executing.",
      "metadata": {}
    },
    {
      "cell_type": "code",
      "source": "",
      "metadata": {},
      "execution_count": null,
      "outputs": []
    },
    {
      "cell_type": "markdown",
      "source": "#### 5. State advantages and disadvantages of multithreading",
      "metadata": {}
    },
    {
      "cell_type": "markdown",
      "source": "###### Benefits of Multithreading\n1. Responsiveness\nMultithreading in an interactive application enables a program to continue running even if a section is blocked or executing a lengthy process, increasing user responsiveness.\n3. Economy\nAllocating memory and resources for process creation is an expensive procedure because it is a time and space-consuming task.\n4. Scalability\nThe advantages of multi-programming become much more apparent in the case of multiprocessor architecture, when threads may execute in parallel on many processors. When there is just one thread, it is impossible to break the processes into smaller jobs performed by different processors.\n\n###### Disadvantages of Multithreading\nIt needs more careful synchronization.\nIt can consume a large space of stocks of blocked threads.\nIt needs support for thread or process.\nIf a parent process has several threads for proper process functioning, the child processes should also be multithreaded because they may be required.\nIt imposes context switching overhead.\n",
      "metadata": {}
    },
    {
      "cell_type": "code",
      "source": "",
      "metadata": {},
      "execution_count": null,
      "outputs": []
    },
    {
      "cell_type": "markdown",
      "source": "#### 6. Explain deadlocks and race conditions.",
      "metadata": {}
    },
    {
      "cell_type": "markdown",
      "source": "When two processes are waiting for each other directly or indirectly, it is called deadlock.\n\nWhen two processes are competing with each other causing data corruption",
      "metadata": {}
    }
  ]
}