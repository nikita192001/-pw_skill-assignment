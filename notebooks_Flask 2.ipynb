{
  "metadata": {
    "language_info": {
      "codemirror_mode": {
        "name": "python",
        "version": 3
      },
      "file_extension": ".py",
      "mimetype": "text/x-python",
      "name": "python",
      "nbconvert_exporter": "python",
      "pygments_lexer": "ipython3",
      "version": "3.8"
    },
    "kernelspec": {
      "name": "python",
      "display_name": "Python (Pyodide)",
      "language": "python"
    }
  },
  "nbformat_minor": 4,
  "nbformat": 4,
  "cells": [
    {
      "cell_type": "markdown",
      "source": "##### Q1. Explain GET and POST methods.",
      "metadata": {}
    },
    {
      "cell_type": "markdown",
      "source": "GET requests are intended to retrieve data from a server and do not modify the server's state. On the other hand, POST requests are used to send data to the server for processing and may modify the server's state.",
      "metadata": {}
    },
    {
      "cell_type": "code",
      "source": "",
      "metadata": {},
      "execution_count": null,
      "outputs": []
    },
    {
      "cell_type": "markdown",
      "source": "##### Q2. Why is request used in Flask?",
      "metadata": {}
    },
    {
      "cell_type": "markdown",
      "source": "The Request, in Flask, is an object that contains all the data sent from the Client to Server. This data can be recovered using the GET/POST Methods.",
      "metadata": {}
    },
    {
      "cell_type": "code",
      "source": "",
      "metadata": {},
      "execution_count": null,
      "outputs": []
    },
    {
      "cell_type": "markdown",
      "source": "##### Q3. Why is redirect() used in Flask?",
      "metadata": {}
    },
    {
      "cell_type": "markdown",
      "source": "A redirect is used in the Flask class to send the user to a particular URL with the status code. conversely, this status code additionally identifies the issue.",
      "metadata": {}
    },
    {
      "cell_type": "code",
      "source": "",
      "metadata": {},
      "execution_count": null,
      "outputs": []
    },
    {
      "cell_type": "markdown",
      "source": "##### Q4. What are templates in Flask? Why is the render_template() function used?",
      "metadata": {}
    },
    {
      "cell_type": "markdown",
      "source": "Templates are files that contain static data as well as placeholders for dynamic data. A template is rendered with specific data to produce a final document. Flask uses the Jinja template library to render templates. In your application, you will use templates to render HTML which will display in the user's browser.\nNote that render_template is typically imported directly from the flask package instead of from flask.",
      "metadata": {}
    }
  ]
}