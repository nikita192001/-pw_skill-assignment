{
  "metadata": {
    "language_info": {
      "codemirror_mode": {
        "name": "python",
        "version": 3
      },
      "file_extension": ".py",
      "mimetype": "text/x-python",
      "name": "python",
      "nbconvert_exporter": "python",
      "pygments_lexer": "ipython3",
      "version": "3.8"
    },
    "kernelspec": {
      "name": "python",
      "display_name": "Python (Pyodide)",
      "language": "python"
    }
  },
  "nbformat_minor": 4,
  "nbformat": 4,
  "cells": [
    {
      "cell_type": "markdown",
      "source": "#### Q1. What is an API? Give an example, where an API is used in real life.",
      "metadata": {}
    },
    {
      "cell_type": "markdown",
      "source": "APIs are used in web applications to connect user-facing front ends with critical back-end functionality and data. APIs are used to deliver material by streaming services such as Spotify and Netflix.\n\nIn the real world, a real-time API is key to a satisfactory digital experience for users as they place an order on Amazon, request directions in Google Maps, get chat support, or use any other mobile app where near-instant responses are expected.",
      "metadata": {}
    },
    {
      "cell_type": "code",
      "source": "",
      "metadata": {},
      "execution_count": null,
      "outputs": []
    },
    {
      "cell_type": "markdown",
      "source": "#### Q2. Give advantages and disadvantages of using API.",
      "metadata": {}
    },
    {
      "cell_type": "markdown",
      "source": "###### Advantages:\n\nIncreased Interoperability: API solutions enable different software systems to communicate with each other, regardless of their programming language or platform. This enhances the interoperability between systems, allowing for the exchange of data and functionality.\nImproved Efficiency: API driven infrastructures enable developers to reuse code and functionality from existing software systems, saving time and reducing the amount of code that needs to be written from scratch.\nBetter User Experience: APIs can enable third-party developers to create applications that integrate with existing software systems, providing a better user experience and increased functionality.\nIncreased Flexibility: APIs provide developers with greater flexibility, enabling them to choose the best programming languages and frameworks for their needs.\nNew Revenue Streams: APIs can enable companies to create new revenue streams by providing third-party developers with access to their software systems.\n\n###### Disadvantages:\nSecurity Concerns: API infrastructures can be vulnerable to security breaches, such as SQL injection attacks and cross-site scripting (XSS) attacks, making it crucial to implement security measures to protect against these threats.\nComplexity: APIs can be complex, requiring a significant amount of development effort to implement and maintain.\nCompatibility Issues: APIs can have compatibility issues between different versions of the same software system or between different systems, which can lead to errors and system failures.\nDependency on Third-Party Developers: APIs rely on third-party developers to create applications that integrate with the software system. This can create dependencies that are outside of the control of the company that owns the software system.\nGovernance and Management: APIs require proper governance and management to ensure they are being used correctly and consistently across different applications and systems.",
      "metadata": {}
    },
    {
      "cell_type": "markdown",
      "source": "#### Q3. What is a Web API? Differentiate between API and Web API.",
      "metadata": {}
    },
    {
      "cell_type": "markdown",
      "source": "A Web API stands for Application Programming Interface. It is a software application that allows two different applications or machines to interact with each other without any user interference. The API contains a complete set of rules and specifications used when interacting with any web application.\n\nAPI is the acronym for Application Programming Interface. It is a software interface that allows two applications to interact with each other without any user intervention.\n\nAPIs provides product or service to communicate with other products and services without having to know how they’re implemented.",
      "metadata": {}
    },
    {
      "cell_type": "code",
      "source": "",
      "metadata": {},
      "execution_count": null,
      "outputs": []
    },
    {
      "cell_type": "markdown",
      "source": "#### Q4. Explain REST and SOAP Architecture. Mention shortcomings of SOAP.",
      "metadata": {}
    },
    {
      "cell_type": "markdown",
      "source": "SOAP – SOAP is a protocol which was designed before REST came into the picture. The main idea behind creating SOAP was to ensure that programs built on different platforms and programming languages could securely exchange data.\nREST – This was designed specifically for working with components such as media components, files, or even objects on a particular hardware device. Any web service which is defined on the principles of REST can be called a RESTful web service. REST uses the normal HTTP verbs of GET, POST, PUT and DELETE for working with the required components.",
      "metadata": {}
    },
    {
      "cell_type": "markdown",
      "source": "#### Q5. Differentiate between REST and SOAP.",
      "metadata": {}
    },
    {
      "cell_type": "markdown",
      "source": "SOAP and REST are two internet data exchange mechanisms. For example, imagine that your internal accounts system shares data with your customer's accounting system to automate invoicing tasks. The two applications share data by using an API that defines communication rules. SOAP and REST are two different approaches to API design. The SOAP approach is highly structured and uses XML data format. REST is more flexible and allows applications to exchange data in multiple formats.",
      "metadata": {}
    },
    {
      "cell_type": "code",
      "source": "",
      "metadata": {},
      "execution_count": null,
      "outputs": []
    }
  ]
}