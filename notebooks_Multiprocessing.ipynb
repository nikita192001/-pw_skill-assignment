{
  "metadata": {
    "language_info": {
      "codemirror_mode": {
        "name": "python",
        "version": 3
      },
      "file_extension": ".py",
      "mimetype": "text/x-python",
      "name": "python",
      "nbconvert_exporter": "python",
      "pygments_lexer": "ipython3",
      "version": "3.8"
    },
    "kernelspec": {
      "name": "python",
      "display_name": "Python (Pyodide)",
      "language": "python"
    }
  },
  "nbformat_minor": 4,
  "nbformat": 4,
  "cells": [
    {
      "cell_type": "markdown",
      "source": "##### Q1. What is multiprocessing in python? Why is it useful?",
      "metadata": {}
    },
    {
      "cell_type": "markdown",
      "source": "Multiprocessing is the ability of the system to run one or more processes in parallel. In simple words, multiprocessing uses the two or more CPU within the single computer system. This method is also capable to allocate the tasks between more than one process.\nMultiprocessing can be represented as a computer with more than one central processor.\nA Multi-core processor refers to single computing component with two or more independent units.",
      "metadata": {}
    },
    {
      "cell_type": "code",
      "source": "",
      "metadata": {},
      "execution_count": null,
      "outputs": []
    },
    {
      "cell_type": "markdown",
      "source": "##### Q2. What are the differences between multiprocessing and multithreading?",
      "metadata": {}
    },
    {
      "cell_type": "markdown",
      "source": "Multiprocessing                                                         \tMultithreading\n1.\tIn Multiprocessing, CPUs are added for increasing computing power.\tWhile In Multithreading, many threads are created of a single process for increasing computing power.\n2.\tIn Multiprocessing, Many processes are executed simultaneously.\tWhile in multithreading, many threads of a process are executed simultaneously.\n3.\tMultiprocessing are classified into Symmetric and Asymmetric.\tWhile Multithreading is not classified in any categories.\n4.\tIn Multiprocessing, Process creation is a time-consuming process.\tWhile in Multithreading, process creation is according to economical.\n5.\tIn Multiprocessing, every process owned a separate address space.\tWhile in Multithreading, a common address space is shared by all the threads.\n",
      "metadata": {}
    },
    {
      "cell_type": "code",
      "source": "",
      "metadata": {},
      "execution_count": null,
      "outputs": []
    },
    {
      "cell_type": "markdown",
      "source": "##### Q3. Write a python code to create a process using the multiprocessing module.",
      "metadata": {}
    },
    {
      "cell_type": "code",
      "source": "from multiprocessing import Process  \ndef disp():  \n    print ('Hello !! Welcome to Python Tutorial')  \n    if __name__ == '__main__':  \n       p = Process(target=disp)  \n       p.start()  \n       p.join()  ",
      "metadata": {
        "trusted": true
      },
      "execution_count": 2,
      "outputs": []
    },
    {
      "cell_type": "code",
      "source": "",
      "metadata": {},
      "execution_count": null,
      "outputs": []
    },
    {
      "cell_type": "markdown",
      "source": "#####  Q4. What is a multiprocessing pool in python? Why is it used?",
      "metadata": {}
    },
    {
      "cell_type": "markdown",
      "source": "Python multiprocessing pool is essential for parallel execution of a function across multiple input values. It is also used to distribute the input data across processes (data parallelism). Consider the following example of a multiprocessing Pool.",
      "metadata": {}
    },
    {
      "cell_type": "code",
      "source": "",
      "metadata": {},
      "execution_count": null,
      "outputs": []
    },
    {
      "cell_type": "markdown",
      "source": "##### Q5. How can we create a pool of worker processes in python using the multiprocessing module?",
      "metadata": {}
    },
    {
      "cell_type": "code",
      "source": "from multiprocessing import Pool  \ndef fun(x):  \n    return x*x  \n  \nif __name__ == '__main__':  \n    with Pool(5) as p:  \n        print(p.map(fun, [1, 2, 3]))  ",
      "metadata": {},
      "execution_count": null,
      "outputs": []
    }
  ]
}