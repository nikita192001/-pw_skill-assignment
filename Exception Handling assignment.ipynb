{
  "metadata": {
    "language_info": {
      "codemirror_mode": {
        "name": "python",
        "version": 3
      },
      "file_extension": ".py",
      "mimetype": "text/x-python",
      "name": "python",
      "nbconvert_exporter": "python",
      "pygments_lexer": "ipython3",
      "version": "3.8"
    },
    "kernelspec": {
      "name": "python",
      "display_name": "Python (Pyodide)",
      "language": "python"
    }
  },
  "nbformat_minor": 4,
  "nbformat": 4,
  "cells": [
    {
      "cell_type": "markdown",
      "source": "#### Q1. What is Exception handling in python? Write the difference between Exceptions and syntax errors.",
      "metadata": {}
    },
    {
      "cell_type": "markdown",
      "source": "An exception in Python is an incident that happens while executing a program that causes the regular course of the program's commands to be disrupted. When a Python code comes across a condition it can't handle, it raises an exception. An object in Python that describes an error is called an exception.\n\nA syntax error occurs when the structure of a program does not conform to the rules of the programming language. Syntax errors are usually detected by the compiler or interpreter when the program is being compiled or executed, and they prevent the program from running. Syntax errors are usually caused by mistakes in the source code, such as typos, omissions, or incorrect use of syntax.\n\nAn exception is an abnormal event that occurs during the execution of a program. Exceptions are usually caused by runtime errors, such as dividing by zero, trying to access an element in an array with an out-of-bounds index, or trying to access a file that does not exist.",
      "metadata": {}
    },
    {
      "cell_type": "code",
      "source": "",
      "metadata": {},
      "execution_count": null,
      "outputs": []
    },
    {
      "cell_type": "markdown",
      "source": "#### Q2 What happens when exception is not handled? Explain with an example",
      "metadata": {}
    },
    {
      "cell_type": "markdown",
      "source": "When an exception occurred, if you don't handle it, the program terminates abruptly and the code past the line that caused the exception will not get executed.",
      "metadata": {}
    },
    {
      "cell_type": "code",
      "source": "\nmarks = 10000\n\n# perform division with 0\na = marks / 0\nprint(a)\n",
      "metadata": {
        "trusted": true
      },
      "execution_count": 1,
      "outputs": [
        {
          "ename": "<class 'ZeroDivisionError'>",
          "evalue": "division by zero",
          "traceback": [
            "\u001b[0;31m---------------------------------------------------------------------------\u001b[0m",
            "\u001b[0;31mZeroDivisionError\u001b[0m                         Traceback (most recent call last)",
            "Cell \u001b[0;32mIn[1], line 4\u001b[0m\n\u001b[1;32m      1\u001b[0m marks \u001b[38;5;241m=\u001b[39m \u001b[38;5;241m10000\u001b[39m\n\u001b[1;32m      3\u001b[0m \u001b[38;5;66;03m# perform division with 0\u001b[39;00m\n\u001b[0;32m----> 4\u001b[0m a \u001b[38;5;241m=\u001b[39m \u001b[43mmarks\u001b[49m\u001b[43m \u001b[49m\u001b[38;5;241;43m/\u001b[39;49m\u001b[43m \u001b[49m\u001b[38;5;241;43m0\u001b[39;49m\n\u001b[1;32m      5\u001b[0m \u001b[38;5;28mprint\u001b[39m(a)\n",
            "\u001b[0;31mZeroDivisionError\u001b[0m: division by zero"
          ],
          "output_type": "error"
        }
      ]
    },
    {
      "cell_type": "code",
      "source": "",
      "metadata": {},
      "execution_count": null,
      "outputs": []
    },
    {
      "cell_type": "markdown",
      "source": "#### Q3. Which Python statements are used to catch and handle exceptions? Explain with an example",
      "metadata": {}
    },
    {
      "cell_type": "markdown",
      "source": "The try...except block is used to handle exceptions in Python. Here's the syntax of try...except block:\n\ntry:\n    # code that may cause exception\nexcept:\n    # code to run when exception occurs",
      "metadata": {}
    },
    {
      "cell_type": "code",
      "source": "try:\n    numerator = 10\n    denominator = 0\n\n    result = numerator/denominator\n\n    print(result)\nexcept:\n    print(\"Error: Denominator cannot be 0.\")",
      "metadata": {
        "trusted": true
      },
      "execution_count": 2,
      "outputs": [
        {
          "name": "stdout",
          "text": "Error: Denominator cannot be 0.\n",
          "output_type": "stream"
        }
      ]
    },
    {
      "cell_type": "code",
      "source": "",
      "metadata": {},
      "execution_count": null,
      "outputs": []
    },
    {
      "cell_type": "markdown",
      "source": "#### Q4. Explin with an example:\n\na. try and else\nb. finally\nc. raise",
      "metadata": {}
    },
    {
      "cell_type": "code",
      "source": "# a try and else\ndef AbyB(a , b):\n\ttry:\n\t\tc = ((a+b) / (a-b))\n\texcept ZeroDivisionError:\n\t\tprint (\"a/b result in 0\")\n\telse:\n\t\tprint (c)\n\n# Driver program to test above function\nAbyB(2.0, 3.0)\nAbyB(3.0, 3.0)\n",
      "metadata": {
        "trusted": true
      },
      "execution_count": 5,
      "outputs": [
        {
          "name": "stdout",
          "text": "-5.0\na/b result in 0\n",
          "output_type": "stream"
        }
      ]
    },
    {
      "cell_type": "code",
      "source": "# b finally\ntry:\n\tk = 5//0 # raises divide by zero exception.\n\tprint(k)\n\n# handles zerodivision exception\nexcept ZeroDivisionError:\n\tprint(\"Can't divide by zero\")\n\nfinally:\n\t# this block is always executed\n\t# regardless of exception generation.\n\tprint('This is always executed')\n",
      "metadata": {
        "trusted": true
      },
      "execution_count": 6,
      "outputs": [
        {
          "name": "stdout",
          "text": "Can't divide by zero\nThis is always executed\n",
          "output_type": "stream"
        }
      ]
    },
    {
      "cell_type": "code",
      "source": "#  Raising Exception\n\ntry:\n\traise NameError(\"Hi there\") # Raise Error\nexcept NameError:\n\tprint (\"An exception\")\n\traise # To determine whether the exception was raised or not\n",
      "metadata": {
        "trusted": true
      },
      "execution_count": 7,
      "outputs": [
        {
          "name": "stdout",
          "text": "An exception\n",
          "output_type": "stream"
        },
        {
          "ename": "<class 'NameError'>",
          "evalue": "Hi there",
          "traceback": [
            "\u001b[0;31m---------------------------------------------------------------------------\u001b[0m",
            "\u001b[0;31mNameError\u001b[0m                                 Traceback (most recent call last)",
            "Cell \u001b[0;32mIn[7], line 4\u001b[0m\n\u001b[1;32m      1\u001b[0m \u001b[38;5;66;03m#  Raising Exception\u001b[39;00m\n\u001b[1;32m      3\u001b[0m \u001b[38;5;28;01mtry\u001b[39;00m:\n\u001b[0;32m----> 4\u001b[0m \t\u001b[38;5;28;01mraise\u001b[39;00m \u001b[38;5;167;01mNameError\u001b[39;00m(\u001b[38;5;124m\"\u001b[39m\u001b[38;5;124mHi there\u001b[39m\u001b[38;5;124m\"\u001b[39m) \u001b[38;5;66;03m# Raise Error\u001b[39;00m\n\u001b[1;32m      5\u001b[0m \u001b[38;5;28;01mexcept\u001b[39;00m \u001b[38;5;167;01mNameError\u001b[39;00m:\n\u001b[1;32m      6\u001b[0m \t\u001b[38;5;28mprint\u001b[39m (\u001b[38;5;124m\"\u001b[39m\u001b[38;5;124mAn exception\u001b[39m\u001b[38;5;124m\"\u001b[39m)\n",
            "\u001b[0;31mNameError\u001b[0m: Hi there"
          ],
          "output_type": "error"
        }
      ]
    },
    {
      "cell_type": "code",
      "source": "",
      "metadata": {},
      "execution_count": null,
      "outputs": []
    },
    {
      "cell_type": "markdown",
      "source": "#### Q5. What are Custom Exceptions in python? Why do we need Custom Exceptions? Explain with an example.",
      "metadata": {}
    },
    {
      "cell_type": "markdown",
      "source": "A custom exception is an exception that is defined by the user. It is used when the built-in exceptions are not sufficient to handle a particular scenario in a program. Custom exceptions are created by subclassing the built-in Exception class or any of its subclasses. By creating a custom exception, you can define your own error message and customize the exception handling.\n\nCustom exceptions are useful in situations where you want to handle specific errors in a program. For example, suppose you are writing a program that reads data from a file. If the file does not exist, Python will raise a FileNotFoundError exception.",
      "metadata": {}
    },
    {
      "cell_type": "code",
      "source": "class CustomException(Exception):\n    def __init__(self, message):\n        super().__init__(message)\n\ntry:\n    raise CustomException(\"This is a custom exception\")\nexcept CustomException as e:\n    print(e)",
      "metadata": {
        "trusted": true
      },
      "execution_count": 8,
      "outputs": [
        {
          "name": "stdout",
          "text": "This is a custom exception\n",
          "output_type": "stream"
        }
      ]
    },
    {
      "cell_type": "code",
      "source": "",
      "metadata": {},
      "execution_count": null,
      "outputs": []
    },
    {
      "cell_type": "markdown",
      "source": "#### Q6. Create custom exception class. Use this class to handle an exception.",
      "metadata": {}
    },
    {
      "cell_type": "code",
      "source": "class CustomException(Exception):\n    \"\"\" my custom exception class \"\"\"\n\n\ntry:\n    raise CustomException('This is my custom exception')\nexcept CustomException as ex:\n    print(ex)",
      "metadata": {
        "trusted": true
      },
      "execution_count": 9,
      "outputs": [
        {
          "name": "stdout",
          "text": "This is my custom exception\n",
          "output_type": "stream"
        }
      ]
    },
    {
      "cell_type": "code",
      "source": "",
      "metadata": {},
      "execution_count": null,
      "outputs": []
    }
  ]
}