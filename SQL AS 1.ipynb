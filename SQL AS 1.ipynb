{
  "metadata": {
    "language_info": {
      "codemirror_mode": {
        "name": "python",
        "version": 3
      },
      "file_extension": ".py",
      "mimetype": "text/x-python",
      "name": "python",
      "nbconvert_exporter": "python",
      "pygments_lexer": "ipython3",
      "version": "3.8"
    },
    "kernelspec": {
      "name": "python",
      "display_name": "Python (Pyodide)",
      "language": "python"
    }
  },
  "nbformat_minor": 4,
  "nbformat": 4,
  "cells": [
    {
      "cell_type": "markdown",
      "source": "#### Q1. What is a database? Differentiate between SQL and NoSQL databases.",
      "metadata": {}
    },
    {
      "cell_type": "markdown",
      "source": "SQL databases are relational, and NoSQL databases are non-relational. SQL databases use structured query language (SQL) and have a predefined schema. NoSQL databases have dynamic schemas for unstructured data. SQL databases are vertically scalable, while NoSQL databases are horizontally scalable.",
      "metadata": {}
    },
    {
      "cell_type": "code",
      "source": "",
      "metadata": {},
      "execution_count": null,
      "outputs": []
    },
    {
      "cell_type": "markdown",
      "source": "#### Q2. What is DDL? Explain why CREATE, DROP, ALTER, and TRUNCATE are used with an example.",
      "metadata": {}
    },
    {
      "cell_type": "markdown",
      "source": "The DDL Commands in Structured Query Language are used to create and modify the schema of the database and its objects. The syntax of DDL commands is predefined for describing the data. The commands of Data Definition Language deal with how the data should exist in the database.\nCREATE is a DDL command used to create databases, tables, triggers and other database objects.\nDROP is a DDL command used to delete/remove the database objects from the SQL database. We can easily remove the entire table, view, or index from the database using this DDL command.\nALTER is a DDL command which changes or modifies the existing structure of the database, and it also changes the schema of database objects.\nTRUNCATE is another DDL command which deletes or removes all the records from the table.",
      "metadata": {}
    },
    {
      "cell_type": "code",
      "source": "",
      "metadata": {},
      "execution_count": null,
      "outputs": []
    },
    {
      "cell_type": "markdown",
      "source": "#### Q3. What is DML? Explain INSERT, UPDATE, and DELETE with an example.",
      "metadata": {}
    },
    {
      "cell_type": "markdown",
      "source": "The DML commands in Structured Query Language change the data present in the SQL database. We can easily access, store, modify, update and delete the existing records from the database using DML commands.\n\nSELECT is the most important data manipulation command in Structured Query Language. The SELECT command shows the records of the specified table. It also shows the particular record of a particular column by using the WHERE clause.\nINSERT is another most important data manipulation command in Structured Query Language, which allows users to insert data in database tables.\nUPDATE is another most important data manipulation command in Structured Query Language, which allows users to update or modify the existing data in database tables.",
      "metadata": {}
    },
    {
      "cell_type": "code",
      "source": "",
      "metadata": {},
      "execution_count": null,
      "outputs": []
    },
    {
      "cell_type": "markdown",
      "source": "#### Q4. What is DQL? Explain SELECT with an example.",
      "metadata": {}
    },
    {
      "cell_type": "markdown",
      "source": "DQL statements are employed to conduct inquiries on the information contained in schema objects. The main purpose of the DQL command is to provide a schema according to the query written. We can understand DQL as follows: It is also a SQL statement that is sued to get the data from the given database and apply order to it. The SELECT statement is used in the DQL command. With the SELECT command, we can get the data from the database and manipulate it as we want. When the SELECT statement is used on the tables, there is another table in the output, and it is called the front-end table. This table is presented or may even be used by the program.\n\n",
      "metadata": {}
    },
    {
      "cell_type": "code",
      "source": "",
      "metadata": {},
      "execution_count": null,
      "outputs": []
    },
    {
      "cell_type": "markdown",
      "source": "#### Q5. Explain Primary Key and Foreign Key.",
      "metadata": {}
    },
    {
      "cell_type": "markdown",
      "source": "A primary key generally focuses on the uniqueness of the table. It is a column or a set of columns that uniquely distinguishes every row in the database. It means it should not have any duplicate value. Also, it doesn’t contain a NULL value.\n\nWhat Is Foreign Key?\nA foreign key is generally used to build a relationship between the two tables. The major purpose of the foreign key is to sustain data integrity between two separate instances of an entity.",
      "metadata": {}
    },
    {
      "cell_type": "code",
      "source": "",
      "metadata": {},
      "execution_count": null,
      "outputs": []
    },
    {
      "cell_type": "markdown",
      "source": "#### Q6. Write a python code to connect MySQL to python. Explain the cursor() and execute() method.",
      "metadata": {}
    },
    {
      "cell_type": "markdown",
      "source": "The MySQLCursor of mysql-connector-python (and similar libraries) is used to execute statements to communicate with the MySQL database.\nUsing the methods of it you can execute SQL statements, fetch data from the result sets, call procedures.\nYou can create Cursor object using the cursor() method of the Connection object/class.",
      "metadata": {}
    },
    {
      "cell_type": "code",
      "source": "import mysql.connector\n\n#establishing the connection\nconn = mysql.connector.connect(\n   user='root', password='password', host='127.0.0.1', database='mydb'\n)\n#Creating a cursor object using the cursor() method\ncursor = conn.cursor()",
      "metadata": {},
      "execution_count": null,
      "outputs": []
    },
    {
      "cell_type": "code",
      "source": "",
      "metadata": {},
      "execution_count": null,
      "outputs": []
    },
    {
      "cell_type": "markdown",
      "source": "#### Q7. Give the order of execution of SQL clauses in an SQL query.",
      "metadata": {}
    },
    {
      "cell_type": "markdown",
      "source": "SELECT DISTINCT column, AGG_FUNC(column_or_expression), …\nFROM mytable\n    JOIN another_table\n      ON mytable.column = another_table.column\n    WHERE constraint_expression\n    GROUP BY column\n    HAVING constraint_expression\n    ORDER BY column ASC/DESC\n    LIMIT count OFFSET COUNT;",
      "metadata": {}
    },
    {
      "cell_type": "markdown",
      "source": "Query order of execution\n1. FROM and JOINs\nThe FROM clause, and subsequent JOINs are first executed to determine the total working set of data that is being queried. This includes subqueries in this clause, and can cause temporary tables to be created under the hood containing all the columns and rows of the tables being joined.\n\n2. WHERE\nOnce we have the total working set of data, the first-pass WHERE constraints are applied to the individual rows, and rows that do not satisfy the constraint are discarded. Each of the constraints can only access columns directly from the tables requested in the FROM clause. Aliases in the SELECT part of the query are not accessible in most databases since they may include expressions dependent on parts of the query that have not yet executed.\n\n3. GROUP BY\nThe remaining rows after the WHERE constraints are applied are then grouped based on common values in the column specified in the GROUP BY clause. As a result of the grouping, there will only be as many rows as there are unique values in that column. Implicitly, this means that you should only need to use this when you have aggregate functions in your query.\n\n4. HAVING\nIf the query has a GROUP BY clause, then the constraints in the HAVING clause are then applied to the grouped rows, discard the grouped rows that don't satisfy the constraint. Like the WHERE clause, aliases are also not accessible from this step in most databases.\n\n5. SELECT\nAny expressions in the SELECT part of the query are finally computed.\n\n6. DISTINCT\nOf the remaining rows, rows with duplicate values in the column marked as DISTINCT will be discarded.\n\n7. ORDER BY\nIf an order is specified by the ORDER BY clause, the rows are then sorted by the specified data in either ascending or descending order. Since all the expressions in the SELECT part of the query have been computed, you can reference aliases in this clause.\n\n8. LIMIT / OFFSET\nFinally, the rows that fall outside the range specified by the LIMIT and OFFSET are discarded, leaving the final set of rows to be returned from the query.",
      "metadata": {}
    }
  ]
}