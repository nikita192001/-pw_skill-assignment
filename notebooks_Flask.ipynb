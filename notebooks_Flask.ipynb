{
  "metadata": {
    "language_info": {
      "codemirror_mode": {
        "name": "python",
        "version": 3
      },
      "file_extension": ".py",
      "mimetype": "text/x-python",
      "name": "python",
      "nbconvert_exporter": "python",
      "pygments_lexer": "ipython3",
      "version": "3.8"
    },
    "kernelspec": {
      "name": "python",
      "display_name": "Python (Pyodide)",
      "language": "python"
    }
  },
  "nbformat_minor": 4,
  "nbformat": 4,
  "cells": [
    {
      "cell_type": "markdown",
      "source": "##### Q1. What is Flask Framework? What are the advantages of Flask Framework?",
      "metadata": {}
    },
    {
      "cell_type": "markdown",
      "source": "Flask is a web framework, it’s a Python module that lets you develop web applications easily. It’s has a small and easy-to-extend core: it’s a microframework that doesn’t include an ORM (Object Relational Manager) or such features.\n\nIt does have many cool features like url routing, template engine. It is a WSGI web app framework.\n\nA Web Application Framework or a simply a Web Framework represents a collection of libraries and modules that enable web application developers to write applications without worrying about low-level details such as protocol, thread management, and so on.\n\nADVANTAGE:\nFlask is very Pythonic. It’s easy to get started with Flask, because it doesn’t have a huge learning curve.\nFlask is often referred to as a microframework. It is designed to keep the core of the application simple and scalable.",
      "metadata": {}
    },
    {
      "cell_type": "code",
      "source": "",
      "metadata": {},
      "execution_count": null,
      "outputs": []
    },
    {
      "cell_type": "markdown",
      "source": "##### Q3. What is App routing in Flask? Why do we use app routes?",
      "metadata": {}
    },
    {
      "cell_type": "markdown",
      "source": "App routing is the technique used to map the specific URL with the associated function intended to perform some task. The Latest Web frameworks use the routing technique to help users remember application URLs. It is helpful to access the desired page directly without navigating from the home page.\n\nThe URL (‘/’) is linked with the root URL in every application.  \n\n",
      "metadata": {}
    },
    {
      "cell_type": "code",
      "source": "",
      "metadata": {},
      "execution_count": null,
      "outputs": []
    },
    {
      "cell_type": "markdown",
      "source": "##### Q5. What function is used in Flask for URL Building?",
      "metadata": {}
    },
    {
      "cell_type": "markdown",
      "source": "Flask url_for is defined as a function that enables developers to build and generate URLs on a Flask application. As a best practice, it is the url_for function that is required to be used, as hard coding the URL in templates and view function of the Flask application tends to utilize more time during modification.",
      "metadata": {}
    }
  ]
}