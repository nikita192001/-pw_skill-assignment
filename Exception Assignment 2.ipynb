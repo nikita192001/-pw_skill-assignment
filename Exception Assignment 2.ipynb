{
  "metadata": {
    "language_info": {
      "codemirror_mode": {
        "name": "python",
        "version": 3
      },
      "file_extension": ".py",
      "mimetype": "text/x-python",
      "name": "python",
      "nbconvert_exporter": "python",
      "pygments_lexer": "ipython3",
      "version": "3.8"
    },
    "kernelspec": {
      "name": "python",
      "display_name": "Python (Pyodide)",
      "language": "python"
    }
  },
  "nbformat_minor": 4,
  "nbformat": 4,
  "cells": [
    {
      "cell_type": "markdown",
      "source": "#### Q1. Explain why we have to use the Exception class while creating a Custom Exception.",
      "metadata": {}
    },
    {
      "cell_type": "markdown",
      "source": "Custom exceptions enhance the usability of a class. An exception class should have init and str magic methods which are called automatically during the exception handling process. It is completely up to us what we want our custom error class to do.\n\nBuilt-in exceptions offer information about Python-related problems, and custom exceptions will add information about project-related problems. That way, you can design your code (and traceback, if an exception is raised) in a way that combines Python code with the language of the project.",
      "metadata": {}
    },
    {
      "cell_type": "code",
      "source": "",
      "metadata": {},
      "execution_count": null,
      "outputs": []
    },
    {
      "cell_type": "markdown",
      "source": "#### Q2 Write a python program to print Python Exception Hierarchy.",
      "metadata": {}
    },
    {
      "cell_type": "markdown",
      "source": "Python Exception hierarchy consists of various built-in exceptions. This hierarchy is used to handle various types of exceptions, as the concept of inheritance also comes into picture.\n\nIn Python, all the built-in exceptions must be the instances of a class derived from BaseException.\n\nThis Exception or Error hierarchy can be printed by importing the Python's inspect module. Using the inspect module, one can perform type checking, retrieve the source code of a method, inspects classes and functions, and examine interpreter stack.\n\nHere in this case, the getclasstree() function from the inspect module can be used to build a tree hierarchy.\n\nSyntax\ninspect.getclasstree(classes, unique = False)",
      "metadata": {}
    },
    {
      "cell_type": "code",
      "source": "# Inbuilt exceptions:\n# Import the inspect module\nimport inspect as ipt\ndef tree_class(cls, ind = 0):\n    print ('-' * ind, cls.__name__)\n    for K in cls.__subclasses__():\n        tree_class(K, ind + 3)\nprint (\"Inbuilt exceptions is: \")\n# THE inspect.getmro() will return the tuple.\n# of class which is cls's base classes.\n#The next step is to create a tree hierarchy.\nipt.getclasstree(ipt.getmro(BaseException))\n# function call\ntree_class(BaseException)",
      "metadata": {
        "trusted": true
      },
      "execution_count": 1,
      "outputs": [
        {
          "name": "stdout",
          "text": "Inbuilt exceptions is: \n BaseException\n--- BaseExceptionGroup\n------ ExceptionGroup\n--- Exception\n------ ArithmeticError\n--------- FloatingPointError\n--------- OverflowError\n--------- ZeroDivisionError\n------------ DivisionByZero\n------------ DivisionUndefined\n--------- DecimalException\n------------ Clamped\n------------ Rounded\n--------------- Underflow\n--------------- Overflow\n------------ Inexact\n--------------- Underflow\n--------------- Overflow\n------------ Subnormal\n--------------- Underflow\n------------ DivisionByZero\n------------ FloatOperation\n------------ InvalidOperation\n--------------- ConversionSyntax\n--------------- DivisionImpossible\n--------------- DivisionUndefined\n--------------- InvalidContext\n------ AssertionError\n------ AttributeError\n--------- FrozenInstanceError\n------ BufferError\n------ EOFError\n--------- IncompleteReadError\n------ ImportError\n--------- ModuleNotFoundError\n------------ PackageNotFoundError\n--------- ZipImportError\n------ LookupError\n--------- IndexError\n--------- KeyError\n------------ UnknownBackend\n--------- CodecRegistryError\n------ MemoryError\n------ NameError\n--------- UnboundLocalError\n------ OSError\n--------- BlockingIOError\n--------- ChildProcessError\n--------- ConnectionError\n------------ BrokenPipeError\n------------ ConnectionAbortedError\n------------ ConnectionRefusedError\n------------ ConnectionResetError\n--------------- RemoteDisconnected\n--------- FileExistsError\n--------- FileNotFoundError\n--------- InterruptedError\n--------- IsADirectoryError\n--------- NotADirectoryError\n--------- PermissionError\n--------- ProcessLookupError\n--------- TimeoutError\n--------- UnsupportedOperation\n--------- itimer_error\n--------- Error\n------------ SameFileError\n--------- SpecialFileError\n--------- ExecError\n--------- ReadError\n--------- herror\n--------- gaierror\n--------- URLError\n------------ HTTPError\n------------ ContentTooShortError\n------ ReferenceError\n------ RuntimeError\n--------- NotImplementedError\n------------ StdinNotImplementedError\n--------- RecursionError\n--------- _DeadlockError\n--------- BrokenBarrierError\n--------- BrokenExecutor\n------------ BrokenThreadPool\n--------- SendfileNotAvailableError\n--------- BrokenBarrierError\n------ StopAsyncIteration\n------ StopIteration\n------ SyntaxError\n--------- IndentationError\n------------ TabError\n------ SystemError\n--------- CodecRegistryError\n------ TypeError\n--------- MultipartConversionError\n--------- FloatOperation\n------ ValueError\n--------- UnicodeError\n------------ UnicodeDecodeError\n------------ UnicodeEncodeError\n------------ UnicodeTranslateError\n--------- UnsupportedOperation\n--------- Error\n--------- IllegalMonthError\n--------- IllegalWeekdayError\n--------- MessageDefect\n------------ NoBoundaryInMultipartDefect\n------------ StartBoundaryNotFoundDefect\n------------ CloseBoundaryNotFoundDefect\n------------ FirstHeaderLineIsContinuationDefect\n------------ MisplacedEnvelopeHeaderDefect\n------------ MissingHeaderBodySeparatorDefect\n------------ MultipartInvariantViolationDefect\n------------ InvalidMultipartContentTransferEncodingDefect\n------------ UndecodableBytesDefect\n------------ InvalidBase64PaddingDefect\n------------ InvalidBase64CharactersDefect\n------------ InvalidBase64LengthDefect\n------------ HeaderDefect\n--------------- InvalidHeaderDefect\n--------------- HeaderMissingRequiredValue\n--------------- NonPrintableDefect\n--------------- ObsoleteHeaderDefect\n--------------- NonASCIILocalPartDefect\n--------------- InvalidDateDefect\n--------- JSONDecodeError\n--------- ELFInvalid\n--------- InvalidVersion\n--------- InvalidWheelFilename\n--------- InvalidSdistFilename\n--------- InvalidSpecifier\n--------- InvalidMarker\n--------- UndefinedComparison\n--------- UndefinedEnvironmentName\n--------- InvalidRequirement\n--------- RequirementParseError\n--------- PiplitePyPIDisabled\n--------- ClassNotFound\n--------- ClipboardEmpty\n--------- MacroToEdit\n------ Warning\n--------- BytesWarning\n--------- DeprecationWarning\n------------ ProvisionalWarning\n--------- EncodingWarning\n--------- FutureWarning\n------------ ProvisionalCompleterWarning\n--------- ImportWarning\n--------- PendingDeprecationWarning\n--------- ResourceWarning\n--------- RuntimeWarning\n------------ PEP440Warning\n--------- SyntaxWarning\n--------- UnicodeWarning\n--------- UserWarning\n------------ FormatterWarning\n------------ GetPassWarning\n------ ExceptionGroup\n------ error\n------ TokenError\n------ StopTokenizing\n------ Error\n------ _OptionError\n------ EvalCodeResultException\n------ error\n------ RegistryError\n------ _GiveupOnFastCopy\n------ JsException\n------ ConversionError\n------ InternalError\n------ ClassFoundException\n------ EndOfBlock\n------ Error\n--------- CancelledError\n--------- InvalidStateError\n------ _GiveupOnSendfile\n------ Error\n------ SubprocessError\n--------- CalledProcessError\n--------- TimeoutExpired\n------ InvalidStateError\n------ LimitOverrunError\n------ QueueEmpty\n------ QueueFull\n------ JsException\n------ error\n------ Incomplete\n------ TarError\n--------- ExtractError\n--------- ReadError\n--------- CompressionError\n--------- StreamError\n--------- HeaderError\n------------ EmptyHeaderError\n------------ TruncatedHeaderError\n------------ EOFHeaderError\n------------ InvalidHeaderError\n------------ SubsequentHeaderError\n------ Error\n------ BadZipFile\n------ LargeZipFile\n------ MessageError\n--------- MessageParseError\n------------ HeaderParseError\n------------ BoundaryError\n--------- MultipartConversionError\n--------- CharsetError\n------ UnsupportedWheel\n------ ParserSyntaxError\n------ ResolutionError\n--------- UnknownExtra\n------ UnsupportedWheel\n------ SkipTest\n------ _ShouldStop\n------ _UnexpectedSuccess\n------ ArgumentError\n------ ArgumentTypeError\n------ InvalidSpecError\n------ TraitError\n------ PickleError\n--------- PicklingError\n--------- UnpicklingError\n------ _Stop\n------ Empty\n------ Full\n------ ConfigError\n--------- ConfigLoaderError\n------------ ArgumentError\n--------- ConfigFileNotFound\n------ ConfigurableError\n--------- MultipleInstanceError\n------ ApplicationError\n------ ErrorDuringImport\n------ NotOneValueFound\n------ KnownIssue\n------ VerifierFailure\n------ CannotEval\n------ OptionError\n------ BdbQuit\n------ Restart\n------ FindCmdError\n------ HomeDirError\n------ ProfileDirError\n------ IPythonCoreError\n--------- TryNext\n--------- UsageError\n--------- StdinNotImplementedError\n------ InputRejected\n------ GetoptError\n------ ErrorToken\n------ _Error\n------ PrefilterError\n------ AliasError\n--------- InvalidAliasError\n------ Error\n--------- InterfaceError\n--------- DatabaseError\n------------ InternalError\n------------ OperationalError\n------------ ProgrammingError\n------------ IntegrityError\n------------ DataError\n------------ NotSupportedError\n------ Warning\n------ SpaceInInput\n------ DOMException\n--------- IndexSizeErr\n--------- DomstringSizeErr\n--------- HierarchyRequestErr\n--------- WrongDocumentErr\n--------- InvalidCharacterErr\n--------- NoDataAllowedErr\n--------- NoModificationAllowedErr\n--------- NotFoundErr\n--------- NotSupportedErr\n--------- InuseAttributeErr\n--------- InvalidStateErr\n--------- SyntaxErr\n--------- InvalidModificationErr\n--------- NamespaceErr\n--------- InvalidAccessErr\n--------- ValidationErr\n------ ValidationError\n------ EditReadOnlyBuffer\n------ _Retry\n------ InvalidLayoutError\n------ HeightIsUnknownError\n------ GuardRejection\n------ ParserSyntaxError\n------ InternalParseError\n------ _PositionUpdatingFinished\n------ SimpleGetItemNotFound\n------ UncaughtAttributeError\n------ HasNoContext\n------ ParamIssue\n------ _JediError\n--------- InternalError\n--------- WrongVersion\n--------- RefactoringError\n------ OnErrorLeaf\n------ InvalidPythonEnvironment\n------ HTTPException\n--------- NotConnected\n--------- InvalidURL\n--------- UnknownProtocol\n--------- UnknownTransferEncoding\n--------- UnimplementedFileMode\n--------- IncompleteRead\n--------- ImproperConnectionState\n------------ CannotSendRequest\n------------ CannotSendHeader\n------------ ResponseNotReady\n--------- BadStatusLine\n------------ RemoteDisconnected\n--------- LineTooLong\n------ InteractivelyDefined\n------ KillEmbedded\n--- GeneratorExit\n--- KeyboardInterrupt\n--- SystemExit\n--- CancelledError\n",
          "output_type": "stream"
        }
      ]
    },
    {
      "cell_type": "code",
      "source": "",
      "metadata": {},
      "execution_count": null,
      "outputs": []
    },
    {
      "cell_type": "markdown",
      "source": "#### Q3. What errors are defined in the ArithmeticError class? Explain any two with an example.",
      "metadata": {}
    },
    {
      "cell_type": "markdown",
      "source": "ArithmeticError is simply an error that occurs during numeric calculations.\nArithmeticError types in Python include: \n 1 OverFlowError.\n 2 ZeroDivisionError.\n 3 FloatingPointError.",
      "metadata": {}
    },
    {
      "cell_type": "code",
      "source": "# 1 example\narithmetic = 5/0\nprint(arithmetic)",
      "metadata": {
        "trusted": true
      },
      "execution_count": 2,
      "outputs": [
        {
          "ename": "<class 'ZeroDivisionError'>",
          "evalue": "division by zero",
          "traceback": [
            "\u001b[0;31m---------------------------------------------------------------------------\u001b[0m",
            "\u001b[0;31mZeroDivisionError\u001b[0m                         Traceback (most recent call last)",
            "Cell \u001b[0;32mIn[2], line 2\u001b[0m\n\u001b[1;32m      1\u001b[0m \u001b[38;5;66;03m# 1 example\u001b[39;00m\n\u001b[0;32m----> 2\u001b[0m arithmetic \u001b[38;5;241m=\u001b[39m \u001b[38;5;241;43m5\u001b[39;49m\u001b[38;5;241;43m/\u001b[39;49m\u001b[38;5;241;43m0\u001b[39;49m\n\u001b[1;32m      3\u001b[0m \u001b[38;5;28mprint\u001b[39m(arithmetic)\n",
            "\u001b[0;31mZeroDivisionError\u001b[0m: division by zero"
          ],
          "output_type": "error"
        }
      ]
    },
    {
      "cell_type": "code",
      "source": "# example 2\nj = 5.0\n\ntry:\n    for i in range(1, 1000):\n        j = j**i\nexcept ArithmeticError as e:\n    print(f\"{e}, {e.__class__}\")",
      "metadata": {
        "trusted": true
      },
      "execution_count": 3,
      "outputs": [
        {
          "name": "stdout",
          "text": "(68, 'Result not representable'), <class 'OverflowError'>\n",
          "output_type": "stream"
        }
      ]
    },
    {
      "cell_type": "code",
      "source": "",
      "metadata": {},
      "execution_count": null,
      "outputs": []
    },
    {
      "cell_type": "markdown",
      "source": "#### Q4. Why LookupError class is used? Explain with an example KeyError and IndexError.",
      "metadata": {}
    },
    {
      "cell_type": "markdown",
      "source": "The LookupError exception in Python forms the base class for all exceptions that are raised when an index or a key is not found for a sequence or dictionary respectively.\nYou can use LookupError exception class to handle both IndexError and KeyError exception classes.\n\n- LookupError\n --> IndexError\n --> KeyError",
      "metadata": {}
    },
    {
      "cell_type": "code",
      "source": "# Index error\n# lists\nx = [1, 2, 3, 4]\ntry:\n    print(x[10])\nexcept LookupError as e:\n    print(f\"{e}, {e.__class__}\")",
      "metadata": {
        "trusted": true
      },
      "execution_count": 5,
      "outputs": [
        {
          "name": "stdout",
          "text": "list index out of range, <class 'IndexError'>\n",
          "output_type": "stream"
        }
      ]
    },
    {
      "cell_type": "code",
      "source": "",
      "metadata": {},
      "execution_count": null,
      "outputs": []
    },
    {
      "cell_type": "markdown",
      "source": "#### Q5. Explain ImportError. What is ModuleNotFoundError?",
      "metadata": {}
    },
    {
      "cell_type": "markdown",
      "source": " The ImportError is raised when an import statement has trouble successfully importing the specified module. Typically, such a problem is due to an invalid or incorrect path, which will raise a ModuleNotFoundError in Python .",
      "metadata": {}
    },
    {
      "cell_type": "code",
      "source": "",
      "metadata": {},
      "execution_count": null,
      "outputs": []
    },
    {
      "cell_type": "markdown",
      "source": "#### Q6. List down some best practices for exception handling in python.",
      "metadata": {}
    },
    {
      "cell_type": "markdown",
      "source": "Use try-except-finally blocks to handle exceptions gracefully and ensure your code can handle errors effectively. Catch specific exceptions rather than using a catch-all except block to avoid swallowing unexpected exceptions and make it easier to identify and fix issues.",
      "metadata": {}
    }
  ]
}