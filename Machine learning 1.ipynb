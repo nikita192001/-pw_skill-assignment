{
 "cells": [
  {
   "cell_type": "markdown",
   "id": "9081a50e",
   "metadata": {},
   "source": [
    "#### Q- Explain the following with example\n",
    "a) Artificial Intelligence\n",
    "b) Machine Learning,\n",
    "c) Deep Learning\n"
   ]
  },
  {
   "cell_type": "markdown",
   "id": "71a09fb1",
   "metadata": {},
   "source": [
    "A) Artificial Intelligence\n",
    "\n",
    " AI is composed of two words Artificial and Intelligence, where Artificial defines \"man-made,\" and intelligence defines \"thinking power\", hence AI means \"a man-made thinking power.\"\n",
    "It is a branch of computer science by which we can create intelligent machines which can behave like a human, think like humans, and able to make decisions.\n",
    " eg . self diving car\n",
    "\n",
    "B)Machine Learning:-\n",
    "  Machine learning enables a machine to automatically learn from data, improve performance from experiences, and predict things without being explicitly programmed.\n",
    "  eg. image recognition, speech recognition, email filtering, Facebook auto-tagging, recommender system\n",
    "  \n",
    "C) Deep Learning:-\n",
    "Deep learning is based on the branch of machine learning, which is a subset of artificial intelligence.\n",
    "Deep learning is a collection of statistical techniques of machine learning for learning feature hierarchies that are actually based on artificial neural networks\n",
    " eg Voice Controlled Assistance,Automatic Machine Translation\n",
    "  "
   ]
  },
  {
   "cell_type": "code",
   "execution_count": null,
   "id": "64960aab",
   "metadata": {},
   "outputs": [],
   "source": []
  },
  {
   "cell_type": "markdown",
   "id": "8ba27c1d",
   "metadata": {},
   "source": [
    "#### Q2- What is supervised learning*? List some examples of supervised learning."
   ]
  },
  {
   "cell_type": "markdown",
   "id": "46dd32a9",
   "metadata": {},
   "source": [
    "Supervised learning is the types of machine learning in which machines are trained using well \"labelled\" training data, and on basis of that data, machines predict the output. The labelled data means some input data is already tagged with the correct output.\n",
    "In supervised learning, the training data provided to the machines work as the supervisor that teaches the machines to predict the output correctly. It applies the same concept as a student learns in the supervision of the teacher.\n",
    "In the real-world, supervised learning can be used for Risk Assessment, Image classification, Fraud Detection, spam filtering, etc.\n",
    "Supervised learning can be further divided into two types of problems:\n",
    "1. Regression\n",
    "2. classification"
   ]
  },
  {
   "cell_type": "code",
   "execution_count": null,
   "id": "e0d9f814",
   "metadata": {},
   "outputs": [],
   "source": []
  },
  {
   "cell_type": "markdown",
   "id": "3d4cce27",
   "metadata": {},
   "source": [
    "#### Q3- What is unsupervised learning? List some examples of unsupervised learning."
   ]
  },
  {
   "cell_type": "markdown",
   "id": "02a84453",
   "metadata": {},
   "source": [
    "Unsupervised learning is a type of machine learning in which models are trained using unlabeled dataset and are allowed to act on that data without any supervision.\n",
    "The goal of unsupervised learning is to find the underlying structure of dataset, group that data according to similarities, and represent that dataset in a compressed format.\n",
    "\n",
    "Example: Suppose the unsupervised learning algorithm is given an input dataset containing images of different types of cats and dogs. The algorithm is never trained upon the given dataset, which means it does not have any idea about the features of the dataset. The task of the unsupervised learning algorithm is to identify the image features on their own. Unsupervised learning algorithm will perform this task by clustering the image dataset into the groups according to similarities between images."
   ]
  },
  {
   "cell_type": "code",
   "execution_count": null,
   "id": "8f281e42",
   "metadata": {},
   "outputs": [],
   "source": []
  },
  {
   "cell_type": "markdown",
   "id": "a99e2547",
   "metadata": {},
   "source": [
    "#### Q4- What is the difference between AI, ML, DL, and DS?"
   ]
  },
  {
   "cell_type": "markdown",
   "id": "f3ec77f0",
   "metadata": {},
   "source": [
    "##### Artificial Intelligence:-\n",
    "\n",
    "1.AI stands for Artificial Intelligence, and is basically the study/process which enables machines to mimic human behaviour through particular algorithm.\n",
    "2.AI is the broader family consisting of ML and DL as it’s components.\n",
    "3.Examples of AI applications include: Google’s AI-Powered Predictions, Ridesharing Apps Like Uber and Lyft, Commercial Flights Use an AI Autopilot, etc.\n",
    "\n",
    "##### Machine Learning:-\n",
    "\n",
    "1.ML stands for Machine Learning, and is the study that uses statistical methods enabling machines to improve with experience.\n",
    "2.ML is the subset of AI.\n",
    "3.Examples of ML applications include: Virtual Personal Assistants: Siri, Alexa, Google, etc., Email Spam and Malware Filtering.\n",
    "\n",
    "##### Deep Learning:-\n",
    "1.DL stands for Deep Learning, and is the study that makes use of Neural Networks(similar to neurons present in human brain) to imitate functionality just like a human brain.\n",
    "2.DL is the subset of ML.\n",
    "3.DL is a ML algorithm that uses deep(more than one layer) neural networks to analyze data and provide output accordingly."
   ]
  },
  {
   "cell_type": "code",
   "execution_count": null,
   "id": "1cf50d95",
   "metadata": {},
   "outputs": [],
   "source": []
  },
  {
   "cell_type": "markdown",
   "id": "1216b0c9",
   "metadata": {},
   "source": [
    "#### Q5- What are the main difference between supervised , unsupervised and semi supervised learning?"
   ]
  },
  {
   "cell_type": "markdown",
   "id": "25523db3",
   "metadata": {},
   "source": [
    "#### Supervised Learning\n",
    "Input data is labeled.\n",
    "Used for prediction and classification models.\n",
    "It takes direct feedback of the output.\n",
    "These models predict the output.\n",
    "It can be used in cases where we know the input and their respective outputs.\n",
    "\n",
    "#### Unsupervised learning\n",
    "Input data is unlabeled.\n",
    "Used for extracting information from large amounts of data.\n",
    "Does not have a feedback mechanism.\n",
    "These models find underlying patterns in data.\n",
    "We can use these models where we only know the input data and do not have the knowledge of the corresponding output.\n",
    "\n",
    "#### Semi-Supervised learning\n",
    "A large amount of input data is unlabeled while a small amount is labeled.\n",
    "It is used when labeling the whole dataset is expensive.\n",
    "It is a type of weak supervision."
   ]
  },
  {
   "cell_type": "code",
   "execution_count": null,
   "id": "ce01ee97",
   "metadata": {},
   "outputs": [],
   "source": []
  },
  {
   "cell_type": "markdown",
   "id": "5b826ae7",
   "metadata": {},
   "source": [
    "#### Q6- What is train, test and validation split? Explain the importance of each them. "
   ]
  },
  {
   "cell_type": "markdown",
   "id": "1a98f733",
   "metadata": {},
   "source": [
    "#### Training Set \n",
    "This is the actual dataset from which a model trains .i.e. the model sees and learns from this data to predict the outcome or to make the right decisions. Most of the training data is collected from several resources and then preprocessed and organized to provide proper performance of the model. Type of training data hugely determines the ability of the model to generalize .i.e. the better the quality and diversity of training data, the better will be the performance of the model. This data is more than 60% of the total data available for the project.\n",
    "\n",
    "#### Validation Set\n",
    "The validation set is used to fine-tune the hyperparameters of the model and is considered a part of the training of the model. The model only sees this data for evaluation but does not learn from this data, providing an objective unbiased evaluation of the model. Validation dataset can be utilized for regression as well by interrupting training of model when loss of validation dataset becomes greater than loss of training dataset .i.e. reducing bias and variance. This data is approximately 10-15% of the total data available for the project but this can change depending upon the number of hyperparameters \n",
    "\n",
    "#### Testing Set\n",
    "\n",
    "This dataset is independent of the training set but has a somewhat similar type of probability distribution of classes and is used as a benchmark to evaluate the model, used only after the training of the model is complete. Testing set is usually a properly organized dataset having all kinds of data for scenarios that the model would probably be facing when used in the real world. Often the validation and testing set combined is used as a testing set which is not considered a good practice. If the accuracy of the model on training data is greater than that on testing data then the model is said to have overfitting. This data is approximately 20-25% of the total data available for the project.  "
   ]
  },
  {
   "cell_type": "code",
   "execution_count": null,
   "id": "30a101be",
   "metadata": {},
   "outputs": [],
   "source": []
  },
  {
   "cell_type": "markdown",
   "id": "dc78b322",
   "metadata": {},
   "source": [
    "#### Q8- List down some commonly used supervised learning algorithms and unsupervised learning algorithms.\n"
   ]
  },
  {
   "cell_type": "markdown",
   "id": "bce88c9e",
   "metadata": {},
   "source": [
    "There are two main areas where supervised machine learning comes in handy: classification problems and regression problems.\n",
    "There are two main areas where unsupervised machine learning comes in handy: Clustering and Association."
   ]
  }
 ],
 "metadata": {
  "kernelspec": {
   "display_name": "Python 3 (ipykernel)",
   "language": "python",
   "name": "python3"
  },
  "language_info": {
   "codemirror_mode": {
    "name": "ipython",
    "version": 3
   },
   "file_extension": ".py",
   "mimetype": "text/x-python",
   "name": "python",
   "nbconvert_exporter": "python",
   "pygments_lexer": "ipython3",
   "version": "3.9.7"
  }
 },
 "nbformat": 4,
 "nbformat_minor": 5
}
